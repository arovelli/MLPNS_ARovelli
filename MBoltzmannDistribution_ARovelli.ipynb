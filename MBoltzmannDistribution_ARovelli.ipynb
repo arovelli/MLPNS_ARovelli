{
  "nbformat": 4,
  "nbformat_minor": 0,
  "metadata": {
    "colab": {
      "provenance": [],
      "include_colab_link": true
    },
    "kernelspec": {
      "display_name": "Python 3",
      "language": "python",
      "name": "python3"
    },
    "language_info": {
      "codemirror_mode": {
        "name": "ipython",
        "version": 3
      },
      "file_extension": ".py",
      "mimetype": "text/x-python",
      "name": "python",
      "nbconvert_exporter": "python",
      "pygments_lexer": "ipython3",
      "version": "3.7.3"
    },
    "latex_envs": {
      "LaTeX_envs_menu_present": true,
      "autoclose": false,
      "autocomplete": true,
      "bibliofile": "biblio.bib",
      "cite_by": "apalike",
      "current_citInitial": 1,
      "eqLabelWithNumbers": true,
      "eqNumInitial": 1,
      "hotkeys": {
        "equation": "Ctrl-E",
        "itemize": "Ctrl-I"
      },
      "labels_anchors": false,
      "latex_user_defs": false,
      "report_style_numbering": false,
      "user_envs_cfg": false
    },
    "nbTranslate": {
      "displayLangs": [
        "*"
      ],
      "hotkey": "alt-t",
      "langInMainMenu": true,
      "sourceLang": "en",
      "targetLang": "fr",
      "useGoogleTranslate": true
    },
    "toc": {
      "base_numbering": 1,
      "nav_menu": {},
      "number_sections": true,
      "sideBar": true,
      "skip_h1_title": false,
      "title_cell": "Table of Contents",
      "title_sidebar": "Contents",
      "toc_cell": false,
      "toc_position": {},
      "toc_section_display": true,
      "toc_window_display": false
    }
  },
  "cells": [
    {
      "cell_type": "markdown",
      "metadata": {
        "id": "view-in-github",
        "colab_type": "text"
      },
      "source": [
        "<a href=\"https://colab.research.google.com/github/arovelli/MLPNS_ARovelli/blob/main/MBoltzmannDistribution_ARovelli.ipynb\" target=\"_parent\"><img src=\"https://colab.research.google.com/assets/colab-badge.svg\" alt=\"Open In Colab\"/></a>"
      ]
    },
    {
      "cell_type": "markdown",
      "metadata": {
        "ExecuteTime": {
          "end_time": "2019-09-04T04:50:01.872913Z",
          "start_time": "2019-09-04T04:50:01.869703Z"
        },
        "id": "dk3tkh__KvAc"
      },
      "source": [
        " Written by Federica B. Bianco @fedhere\n",
        "UDel DSPS"
      ]
    },
    {
      "cell_type": "code",
      "metadata": {
        "ExecuteTime": {
          "end_time": "2019-09-07T17:36:53.625807Z",
          "start_time": "2019-09-07T17:36:53.393906Z"
        },
        "colab": {
          "base_uri": "https://localhost:8080/"
        },
        "id": "iQaonMUBqtX2",
        "outputId": "bc376107-2932-43c8-b526-8a80b24b0471"
      },
      "source": [
        "from __future__ import print_function, division #garantisce python2-3 compatibility\n",
        "import numpy as np\n",
        "import scipy as sp #per utilizzare le distribuzioni\n",
        "from scipy import stats\n",
        "import pylab as pl #plotting\n",
        "%pylab inline \n",
        "#not needed in collab\n",
        "pl.style.use(\"https://raw.githubusercontent.com/fedhere/DSPS_FBianco/master/fbb.mplstyle\")\n"
      ],
      "execution_count": null,
      "outputs": [
        {
          "output_type": "stream",
          "name": "stdout",
          "text": [
            "Populating the interactive namespace from numpy and matplotlib\n"
          ]
        },
        {
          "output_type": "stream",
          "name": "stderr",
          "text": [
            "/usr/local/lib/python3.9/dist-packages/IPython/core/magics/pylab.py:159: UserWarning: pylab import has clobbered these variables: ['mean']\n",
            "`%matplotlib` prevents importing * from pylab and numpy\n",
            "  warn(\"pylab import has clobbered these variables: %s\"  % clobbered +\n"
          ]
        }
      ]
    },
    {
      "cell_type": "markdown",
      "metadata": {
        "id": "zu5QKDi5b7vW"
      },
      "source": [
        "# Homework 1: Maxwell Boltzmann distribution"
      ]
    },
    {
      "cell_type": "markdown",
      "metadata": {
        "id": "ueaB0mHCO_iM"
      },
      "source": [
        "In Physics, statistics can help us describe the macroscopic behavior of a system if we know its microscopic properties in a statistical sense. We cannot know the motion of each molecule in a gas, but we can know the distribution of their velocities and positions.   In the mid to late 1800s, James Clerk Maxwell and Ludwig Boltzmann modeled the *distribution of speed of molecules in a gas*. As you probably know, and can intuitive realize, the speed of the molecules depends on the temperature of the gas, which is a macroscopic property, the velocity of the molecules is different for different gas temperatures. **This distribution of velocities is called the Maxwell-Boltzmann distribution.**\n"
      ]
    },
    {
      "cell_type": "markdown",
      "metadata": {
        "id": "7LpR51uQSvN9"
      },
      "source": [
        "It turns out that the Maxwel-Boltzmann distribution is a special case of the [*Chi distribution*](https://en.wikipedia.org/wiki/Chi_distribution) with 3 degrees of freedom, and with a scale parameter corresponding to the temperature in some way. \n"
      ]
    },
    {
      "cell_type": "markdown",
      "metadata": {
        "id": "Pc25lN9SUxQL"
      },
      "source": [
        "Below I have created 3 distributions. Based on the description above\n",
        "\n",
        "\n",
        "# 1) label the axes in the plot"
      ]
    },
    {
      "cell_type": "code",
      "metadata": {
        "ExecuteTime": {
          "end_time": "2019-09-07T17:36:56.493299Z",
          "start_time": "2019-09-07T17:36:56.021862Z"
        },
        "colab": {
          "base_uri": "https://localhost:8080/",
          "height": 438
        },
        "id": "LZm2afzhUwuG",
        "outputId": "74d84549-8988-49dc-cecd-78b3e828c7c9"
      },
      "source": [
        "np.random.randn(123)\n",
        "fig, ax = pl.subplots()\n",
        "for a in [0.2, 0.6, 1.0]:\n",
        "    ax.hist(sp.stats.chi.rvs(df=3, scale=a, size=1000), # could as well be sp.stats.maxwell.rvs(scale=a, size=1000)\n",
        "          bins=np.arange(0,5,0.1), alpha=0.7,\n",
        "       label=\"a = %.1f\"%a);\n",
        "\n",
        "pl.legend();\n",
        "\n",
        "# your code to add labels here\n",
        "pl.xlabel('Speed(m/s)');\n",
        "pl.ylabel('Number of particles in the simulation')"
      ],
      "execution_count": null,
      "outputs": [
        {
          "output_type": "execute_result",
          "data": {
            "text/plain": [
              "Text(0, 0.5, 'Number of particles in the simulation')"
            ]
          },
          "metadata": {},
          "execution_count": 33
        },
        {
          "output_type": "display_data",
          "data": {
            "text/plain": [
              "<Figure size 720x432 with 1 Axes>"
            ],
            "image/png": "[encoded data removed]"
          },
          "metadata": {}
        }
      ]
    },
    {
      "cell_type": "markdown",
      "metadata": {
        "id": "MGdILsLAaopl"
      },
      "source": [
        "# 2) knowing that the *scale* parameter $a$  is a function of the temperature  *T*, and that the dependency is to a power 1/2, which is correct:\n",
        "   **$a \\propto \\sqrt{T}$**  or **$a \\propto \\sqrt{1/T}$**? \n",
        "\n",
        "   (in other words, is the dependency on the root of the temperature or on the inverse root of the temperature ?)\n",
        " "
      ]
    },
    {
      "cell_type": "markdown",
      "metadata": {
        "id": "vMGhorbvcrFM"
      },
      "source": [
        "\n",
        "\n",
        "```\n",
        "# Questo è formattato come codice\n",
        "```\n",
        "\n",
        "Your answer here: dipende da sqrt(T)"
      ]
    },
    {
      "cell_type": "code",
      "source": [
        "sp.stats.chi.rvs(df = 3, scale = 1.0, size = 1000).mean()"
      ],
      "metadata": {
        "colab": {
          "base_uri": "https://localhost:8080/"
        },
        "id": "LRKxE8cmIL3n",
        "outputId": "e0ff43ae-dc39-4f16-c48b-a404f61ca93d"
      },
      "execution_count": null,
      "outputs": [
        {
          "output_type": "execute_result",
          "data": {
            "text/plain": [
              "1.5654656452733422"
            ]
          },
          "metadata": {},
          "execution_count": 34
        }
      ]
    },
    {
      "cell_type": "markdown",
      "metadata": {
        "id": "hGeeXYttXLO1"
      },
      "source": [
        "\n",
        "# 3) What is the mean of all three distributions. How does it compare to the most probable molecular speed? \n",
        "From the wikipedia page of the Chi distribution find the formula of the mean of the Chi distribution. The distribution we are using has a scale parameter *a* in addition to the number of degrees of freedom. The mean scales linearly with this parameter:\n",
        "\n",
        "$\\mu_{\\mathrm{MB}, k, a} = a \\cdot \\mu_{\\mathrm{chi}, k}$\n",
        "\n",
        "Using the scipy function ```sp.special.gamma()```  calculate the gamma $\\Gamma$ function,\n",
        "\n",
        "**calculate the mean of all three distributions. Compare it with the mean of the empirical distributions I generated in step 1. How does this mean compare to the most probable molecular speed.**"
      ]
    },
    {
      "cell_type": "code",
      "metadata": {
        "ExecuteTime": {
          "end_time": "2019-09-07T17:36:59.245480Z",
          "start_time": "2019-09-07T17:36:59.243338Z"
        },
        "id": "-8htAA4mRAVa",
        "colab": {
          "base_uri": "https://localhost:8080/"
        },
        "outputId": "0589098f-9366-4dd2-d708-57462b61097f"
      },
      "source": [
        "# your code here\n",
        "mean = sqrt(2)*((sp.special.gamma(2))/(sp.special.gamma(3/2)))\n",
        "mean\n",
        "a_mb = np.array([0.2, 0.6, 1])\n",
        "mean_mb = np.zeros(3) \n",
        "mean_mb = mean * a_mb\n",
        "mean_mb\n",
        "\n"
      ],
      "execution_count": null,
      "outputs": [
        {
          "output_type": "execute_result",
          "data": {
            "text/plain": [
              "array([0.31915382, 0.95746147, 1.59576912])"
            ]
          },
          "metadata": {},
          "execution_count": 39
        }
      ]
    },
    {
      "cell_type": "markdown",
      "metadata": {
        "id": "r7oes80EQER-"
      },
      "source": [
        "This really only holds for perfect gasses, which means under 4 assumptions: \n",
        "- the diameter of the molecules is much smaller than the distance between them\n",
        "- the collisions between molecules conserve energy\n",
        "- the molecules do not interact between collisions and are not subject to any other forces (move at constant speed in a straight line)\n",
        "- the initial position and velocity are random."
      ]
    },
    {
      "cell_type": "code",
      "source": [
        "empirical = np.zeros(3)\n",
        "for i in range(3):\n",
        "  empirical[i] = np.array(sp.stats.chi.rvs(df=3, scale=a_mb[i], size=1000)).mean()\n",
        "  \n",
        "print(empirical)"
      ],
      "metadata": {
        "colab": {
          "base_uri": "https://localhost:8080/"
        },
        "id": "sfRpuZpNMzj9",
        "outputId": "26b92926-b462-439d-facc-130946a2fd56"
      },
      "execution_count": null,
      "outputs": [
        {
          "output_type": "stream",
          "name": "stdout",
          "text": [
            "[0.32097474 0.94032794 1.56922015]\n"
          ]
        }
      ]
    },
    {
      "cell_type": "code",
      "source": [
        "from numpy.random.mtrand import RandomState\n",
        "def meanchi(a, k = 3):\n",
        "  \"\"\"\n",
        "  \"\"\"\n",
        "  return a * (np.sqrt(2) * (sp.special.gamma((k +1) * 0.5)) / (sp.special.gamma(k/2)))\n",
        "  print(meanchi(a))\n",
        "\n",
        "\n",
        "def meanMB(a):\n",
        "  \"\"\"\n",
        "  write a description here\n",
        "  \"\"\"\n",
        "  return 2*a*np.sqrt(2/np.pi)\n",
        "\n",
        "  for a in [0.2, 0.6, 1.0]:\n",
        "    print(\"{0:.2f}\".format(meanMB(a)))\n",
        "    print(sp.stats.chi.rvs(df =3, scale = a, size=1000, random_state = 323).mean())"
      ],
      "metadata": {
        "id": "lgfxKtfVNPV0"
      },
      "execution_count": null,
      "outputs": []
    },
    {
      "cell_type": "markdown",
      "metadata": {
        "id": "3PJ9hjLzQjyA"
      },
      "source": [
        "# Extra Credit:\n",
        "\n",
        "can you create a python (2D) simulation where the molecules behave as describe and calculate their speed evolution from an initial speed that is gaussian distributed? (rather hard!!)\n"
      ]
    },
    {
      "cell_type": "code",
      "source": [],
      "metadata": {
        "id": "q3xrvk5zTo5p"
      },
      "execution_count": null,
      "outputs": []
    },
    {
      "cell_type": "code",
      "metadata": {
        "ExecuteTime": {
          "end_time": "2019-09-07T17:37:01.623460Z",
          "start_time": "2019-09-07T17:37:01.621218Z"
        },
        "id": "6LJU9GPVRO7B"
      },
      "source": [
        "# your code here"
      ],
      "execution_count": null,
      "outputs": []
    },
    {
      "cell_type": "code",
      "metadata": {
        "id": "WN8ljqmZPCBT"
      },
      "source": [],
      "execution_count": null,
      "outputs": []
    },
    {
      "cell_type": "code",
      "source": [],
      "metadata": {
        "id": "3No0xEQTFN15"
      },
      "execution_count": null,
      "outputs": []
    }
  ]
}